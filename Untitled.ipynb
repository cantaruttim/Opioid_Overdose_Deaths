{
 "cells": [
  {
   "cell_type": "code",
   "execution_count": 13,
   "id": "047436bd",
   "metadata": {},
   "outputs": [],
   "source": [
    "import pandas as pd\n",
    "import numpy as np\n",
    "import seaborn as sns\n",
    "%matplotlib inline"
   ]
  },
  {
   "cell_type": "code",
   "execution_count": 39,
   "id": "c929676c",
   "metadata": {},
   "outputs": [
    {
     "data": {
      "text/html": [
       "<div>\n",
       "<style scoped>\n",
       "    .dataframe tbody tr th:only-of-type {\n",
       "        vertical-align: middle;\n",
       "    }\n",
       "\n",
       "    .dataframe tbody tr th {\n",
       "        vertical-align: top;\n",
       "    }\n",
       "\n",
       "    .dataframe thead th {\n",
       "        text-align: right;\n",
       "    }\n",
       "</style>\n",
       "<table border=\"1\" class=\"dataframe\">\n",
       "  <thead>\n",
       "    <tr style=\"text-align: right;\">\n",
       "      <th></th>\n",
       "      <th>State</th>\n",
       "      <th>Year</th>\n",
       "      <th>Deaths</th>\n",
       "      <th>Population</th>\n",
       "      <th>Crude Rate</th>\n",
       "      <th>Crude Rate Lower 95% Confidence Interval</th>\n",
       "      <th>Crude Rate Upper 95% Confidence Interval</th>\n",
       "      <th>Prescriptions Dispensed by US Retailers in that year (millions)</th>\n",
       "    </tr>\n",
       "  </thead>\n",
       "  <tbody>\n",
       "    <tr>\n",
       "      <th>0</th>\n",
       "      <td>Alabama</td>\n",
       "      <td>1999</td>\n",
       "      <td>39</td>\n",
       "      <td>4430141</td>\n",
       "      <td>0.9</td>\n",
       "      <td>0.6</td>\n",
       "      <td>1.2</td>\n",
       "      <td>116</td>\n",
       "    </tr>\n",
       "    <tr>\n",
       "      <th>1</th>\n",
       "      <td>Alabama</td>\n",
       "      <td>2000</td>\n",
       "      <td>46</td>\n",
       "      <td>4447100</td>\n",
       "      <td>1</td>\n",
       "      <td>0.8</td>\n",
       "      <td>1.4</td>\n",
       "      <td>126</td>\n",
       "    </tr>\n",
       "    <tr>\n",
       "      <th>2</th>\n",
       "      <td>Alabama</td>\n",
       "      <td>2001</td>\n",
       "      <td>67</td>\n",
       "      <td>4467634</td>\n",
       "      <td>1.5</td>\n",
       "      <td>1.2</td>\n",
       "      <td>1.9</td>\n",
       "      <td>138</td>\n",
       "    </tr>\n",
       "    <tr>\n",
       "      <th>3</th>\n",
       "      <td>Alabama</td>\n",
       "      <td>2002</td>\n",
       "      <td>75</td>\n",
       "      <td>4480089</td>\n",
       "      <td>1.7</td>\n",
       "      <td>1.3</td>\n",
       "      <td>2.1</td>\n",
       "      <td>142</td>\n",
       "    </tr>\n",
       "    <tr>\n",
       "      <th>4</th>\n",
       "      <td>Alabama</td>\n",
       "      <td>2003</td>\n",
       "      <td>54</td>\n",
       "      <td>4503491</td>\n",
       "      <td>1.2</td>\n",
       "      <td>0.9</td>\n",
       "      <td>1.6</td>\n",
       "      <td>149</td>\n",
       "    </tr>\n",
       "    <tr>\n",
       "      <th>...</th>\n",
       "      <td>...</td>\n",
       "      <td>...</td>\n",
       "      <td>...</td>\n",
       "      <td>...</td>\n",
       "      <td>...</td>\n",
       "      <td>...</td>\n",
       "      <td>...</td>\n",
       "      <td>...</td>\n",
       "    </tr>\n",
       "    <tr>\n",
       "      <th>811</th>\n",
       "      <td>Wyoming</td>\n",
       "      <td>2010</td>\n",
       "      <td>49</td>\n",
       "      <td>563626</td>\n",
       "      <td>8.7</td>\n",
       "      <td>6.4</td>\n",
       "      <td>11.5</td>\n",
       "      <td>210</td>\n",
       "    </tr>\n",
       "    <tr>\n",
       "      <th>812</th>\n",
       "      <td>Wyoming</td>\n",
       "      <td>2011</td>\n",
       "      <td>47</td>\n",
       "      <td>568158</td>\n",
       "      <td>8.3</td>\n",
       "      <td>6.1</td>\n",
       "      <td>11</td>\n",
       "      <td>219</td>\n",
       "    </tr>\n",
       "    <tr>\n",
       "      <th>813</th>\n",
       "      <td>Wyoming</td>\n",
       "      <td>2012</td>\n",
       "      <td>47</td>\n",
       "      <td>576412</td>\n",
       "      <td>8.2</td>\n",
       "      <td>6</td>\n",
       "      <td>10.8</td>\n",
       "      <td>217</td>\n",
       "    </tr>\n",
       "    <tr>\n",
       "      <th>814</th>\n",
       "      <td>Wyoming</td>\n",
       "      <td>2013</td>\n",
       "      <td>52</td>\n",
       "      <td>582658</td>\n",
       "      <td>8.9</td>\n",
       "      <td>6.7</td>\n",
       "      <td>11.7</td>\n",
       "      <td>207</td>\n",
       "    </tr>\n",
       "    <tr>\n",
       "      <th>815</th>\n",
       "      <td>Wyoming</td>\n",
       "      <td>2014</td>\n",
       "      <td>57</td>\n",
       "      <td>584153</td>\n",
       "      <td>9.8</td>\n",
       "      <td>7.4</td>\n",
       "      <td>12.6</td>\n",
       "      <td>196</td>\n",
       "    </tr>\n",
       "  </tbody>\n",
       "</table>\n",
       "<p>816 rows × 8 columns</p>\n",
       "</div>"
      ],
      "text/plain": [
       "       State  Year Deaths  Population Crude Rate  \\\n",
       "0    Alabama  1999     39     4430141        0.9   \n",
       "1    Alabama  2000     46     4447100          1   \n",
       "2    Alabama  2001     67     4467634        1.5   \n",
       "3    Alabama  2002     75     4480089        1.7   \n",
       "4    Alabama  2003     54     4503491        1.2   \n",
       "..       ...   ...    ...         ...        ...   \n",
       "811  Wyoming  2010     49      563626        8.7   \n",
       "812  Wyoming  2011     47      568158        8.3   \n",
       "813  Wyoming  2012     47      576412        8.2   \n",
       "814  Wyoming  2013     52      582658        8.9   \n",
       "815  Wyoming  2014     57      584153        9.8   \n",
       "\n",
       "    Crude Rate Lower 95% Confidence Interval  \\\n",
       "0                                        0.6   \n",
       "1                                        0.8   \n",
       "2                                        1.2   \n",
       "3                                        1.3   \n",
       "4                                        0.9   \n",
       "..                                       ...   \n",
       "811                                      6.4   \n",
       "812                                      6.1   \n",
       "813                                        6   \n",
       "814                                      6.7   \n",
       "815                                      7.4   \n",
       "\n",
       "    Crude Rate Upper 95% Confidence Interval  \\\n",
       "0                                        1.2   \n",
       "1                                        1.4   \n",
       "2                                        1.9   \n",
       "3                                        2.1   \n",
       "4                                        1.6   \n",
       "..                                       ...   \n",
       "811                                     11.5   \n",
       "812                                       11   \n",
       "813                                     10.8   \n",
       "814                                     11.7   \n",
       "815                                     12.6   \n",
       "\n",
       "     Prescriptions Dispensed by US Retailers in that year (millions)  \n",
       "0                                                  116                \n",
       "1                                                  126                \n",
       "2                                                  138                \n",
       "3                                                  142                \n",
       "4                                                  149                \n",
       "..                                                 ...                \n",
       "811                                                210                \n",
       "812                                                219                \n",
       "813                                                217                \n",
       "814                                                207                \n",
       "815                                                196                \n",
       "\n",
       "[816 rows x 8 columns]"
      ]
     },
     "execution_count": 39,
     "metadata": {},
     "output_type": "execute_result"
    }
   ],
   "source": [
    "df = pd.read_csv(\"Multiple Cause of Death 1999-2014 v1.1.csv\", sep=',')\n",
    "df"
   ]
  },
  {
   "cell_type": "code",
   "execution_count": 4,
   "id": "f62b6667",
   "metadata": {},
   "outputs": [
    {
     "data": {
      "text/html": [
       "<div>\n",
       "<style scoped>\n",
       "    .dataframe tbody tr th:only-of-type {\n",
       "        vertical-align: middle;\n",
       "    }\n",
       "\n",
       "    .dataframe tbody tr th {\n",
       "        vertical-align: top;\n",
       "    }\n",
       "\n",
       "    .dataframe thead th {\n",
       "        text-align: right;\n",
       "    }\n",
       "</style>\n",
       "<table border=\"1\" class=\"dataframe\">\n",
       "  <thead>\n",
       "    <tr style=\"text-align: right;\">\n",
       "      <th></th>\n",
       "      <th>State</th>\n",
       "      <th>Year</th>\n",
       "      <th>Deaths</th>\n",
       "      <th>Population</th>\n",
       "      <th>Crude Rate</th>\n",
       "      <th>Crude Rate Lower 95% Confidence Interval</th>\n",
       "      <th>Crude Rate Upper 95% Confidence Interval</th>\n",
       "      <th>Prescriptions Dispensed by US Retailers in that year (millions)</th>\n",
       "    </tr>\n",
       "  </thead>\n",
       "  <tbody>\n",
       "    <tr>\n",
       "      <th>0</th>\n",
       "      <td>Alabama</td>\n",
       "      <td>1999</td>\n",
       "      <td>39</td>\n",
       "      <td>4430141</td>\n",
       "      <td>0.9</td>\n",
       "      <td>0.6</td>\n",
       "      <td>1.2</td>\n",
       "      <td>116</td>\n",
       "    </tr>\n",
       "    <tr>\n",
       "      <th>1</th>\n",
       "      <td>Alabama</td>\n",
       "      <td>2000</td>\n",
       "      <td>46</td>\n",
       "      <td>4447100</td>\n",
       "      <td>1</td>\n",
       "      <td>0.8</td>\n",
       "      <td>1.4</td>\n",
       "      <td>126</td>\n",
       "    </tr>\n",
       "    <tr>\n",
       "      <th>2</th>\n",
       "      <td>Alabama</td>\n",
       "      <td>2001</td>\n",
       "      <td>67</td>\n",
       "      <td>4467634</td>\n",
       "      <td>1.5</td>\n",
       "      <td>1.2</td>\n",
       "      <td>1.9</td>\n",
       "      <td>138</td>\n",
       "    </tr>\n",
       "    <tr>\n",
       "      <th>3</th>\n",
       "      <td>Alabama</td>\n",
       "      <td>2002</td>\n",
       "      <td>75</td>\n",
       "      <td>4480089</td>\n",
       "      <td>1.7</td>\n",
       "      <td>1.3</td>\n",
       "      <td>2.1</td>\n",
       "      <td>142</td>\n",
       "    </tr>\n",
       "    <tr>\n",
       "      <th>4</th>\n",
       "      <td>Alabama</td>\n",
       "      <td>2003</td>\n",
       "      <td>54</td>\n",
       "      <td>4503491</td>\n",
       "      <td>1.2</td>\n",
       "      <td>0.9</td>\n",
       "      <td>1.6</td>\n",
       "      <td>149</td>\n",
       "    </tr>\n",
       "    <tr>\n",
       "      <th>...</th>\n",
       "      <td>...</td>\n",
       "      <td>...</td>\n",
       "      <td>...</td>\n",
       "      <td>...</td>\n",
       "      <td>...</td>\n",
       "      <td>...</td>\n",
       "      <td>...</td>\n",
       "      <td>...</td>\n",
       "    </tr>\n",
       "    <tr>\n",
       "      <th>811</th>\n",
       "      <td>Wyoming</td>\n",
       "      <td>2010</td>\n",
       "      <td>49</td>\n",
       "      <td>563626</td>\n",
       "      <td>8.7</td>\n",
       "      <td>6.4</td>\n",
       "      <td>11.5</td>\n",
       "      <td>210</td>\n",
       "    </tr>\n",
       "    <tr>\n",
       "      <th>812</th>\n",
       "      <td>Wyoming</td>\n",
       "      <td>2011</td>\n",
       "      <td>47</td>\n",
       "      <td>568158</td>\n",
       "      <td>8.3</td>\n",
       "      <td>6.1</td>\n",
       "      <td>11</td>\n",
       "      <td>219</td>\n",
       "    </tr>\n",
       "    <tr>\n",
       "      <th>813</th>\n",
       "      <td>Wyoming</td>\n",
       "      <td>2012</td>\n",
       "      <td>47</td>\n",
       "      <td>576412</td>\n",
       "      <td>8.2</td>\n",
       "      <td>6</td>\n",
       "      <td>10.8</td>\n",
       "      <td>217</td>\n",
       "    </tr>\n",
       "    <tr>\n",
       "      <th>814</th>\n",
       "      <td>Wyoming</td>\n",
       "      <td>2013</td>\n",
       "      <td>52</td>\n",
       "      <td>582658</td>\n",
       "      <td>8.9</td>\n",
       "      <td>6.7</td>\n",
       "      <td>11.7</td>\n",
       "      <td>207</td>\n",
       "    </tr>\n",
       "    <tr>\n",
       "      <th>815</th>\n",
       "      <td>Wyoming</td>\n",
       "      <td>2014</td>\n",
       "      <td>57</td>\n",
       "      <td>584153</td>\n",
       "      <td>9.8</td>\n",
       "      <td>7.4</td>\n",
       "      <td>12.6</td>\n",
       "      <td>196</td>\n",
       "    </tr>\n",
       "  </tbody>\n",
       "</table>\n",
       "<p>816 rows × 8 columns</p>\n",
       "</div>"
      ],
      "text/plain": [
       "       State  Year Deaths  Population Crude Rate  \\\n",
       "0    Alabama  1999     39     4430141        0.9   \n",
       "1    Alabama  2000     46     4447100          1   \n",
       "2    Alabama  2001     67     4467634        1.5   \n",
       "3    Alabama  2002     75     4480089        1.7   \n",
       "4    Alabama  2003     54     4503491        1.2   \n",
       "..       ...   ...    ...         ...        ...   \n",
       "811  Wyoming  2010     49      563626        8.7   \n",
       "812  Wyoming  2011     47      568158        8.3   \n",
       "813  Wyoming  2012     47      576412        8.2   \n",
       "814  Wyoming  2013     52      582658        8.9   \n",
       "815  Wyoming  2014     57      584153        9.8   \n",
       "\n",
       "    Crude Rate Lower 95% Confidence Interval  \\\n",
       "0                                        0.6   \n",
       "1                                        0.8   \n",
       "2                                        1.2   \n",
       "3                                        1.3   \n",
       "4                                        0.9   \n",
       "..                                       ...   \n",
       "811                                      6.4   \n",
       "812                                      6.1   \n",
       "813                                        6   \n",
       "814                                      6.7   \n",
       "815                                      7.4   \n",
       "\n",
       "    Crude Rate Upper 95% Confidence Interval  \\\n",
       "0                                        1.2   \n",
       "1                                        1.4   \n",
       "2                                        1.9   \n",
       "3                                        2.1   \n",
       "4                                        1.6   \n",
       "..                                       ...   \n",
       "811                                     11.5   \n",
       "812                                       11   \n",
       "813                                     10.8   \n",
       "814                                     11.7   \n",
       "815                                     12.6   \n",
       "\n",
       "     Prescriptions Dispensed by US Retailers in that year (millions)  \n",
       "0                                                  116                \n",
       "1                                                  126                \n",
       "2                                                  138                \n",
       "3                                                  142                \n",
       "4                                                  149                \n",
       "..                                                 ...                \n",
       "811                                                210                \n",
       "812                                                219                \n",
       "813                                                217                \n",
       "814                                                207                \n",
       "815                                                196                \n",
       "\n",
       "[816 rows x 8 columns]"
      ]
     },
     "execution_count": 4,
     "metadata": {},
     "output_type": "execute_result"
    }
   ],
   "source": [
    "df"
   ]
  },
  {
   "cell_type": "code",
   "execution_count": 46,
   "id": "0f2a7731",
   "metadata": {},
   "outputs": [
    {
     "data": {
      "text/plain": [
       "816"
      ]
     },
     "execution_count": 46,
     "metadata": {},
     "output_type": "execute_result"
    }
   ],
   "source": [
    "# de 2000 a 2014 tiveram 816 mortes por overdose de opioides\n",
    "df['Deaths'].count()"
   ]
  },
  {
   "cell_type": "code",
   "execution_count": 17,
   "id": "db002c62",
   "metadata": {},
   "outputs": [
    {
     "name": "stdout",
     "output_type": "stream",
     "text": [
      "<class 'pandas.core.frame.DataFrame'>\n",
      "RangeIndex: 816 entries, 0 to 815\n",
      "Data columns (total 8 columns):\n",
      " #   Column                                                           Non-Null Count  Dtype \n",
      "---  ------                                                           --------------  ----- \n",
      " 0   State                                                            816 non-null    object\n",
      " 1   Year                                                             816 non-null    int64 \n",
      " 2   Deaths                                                           816 non-null    object\n",
      " 3   Population                                                       816 non-null    int64 \n",
      " 4   Crude Rate                                                       816 non-null    object\n",
      " 5   Crude Rate Lower 95% Confidence Interval                         816 non-null    object\n",
      " 6   Crude Rate Upper 95% Confidence Interval                         816 non-null    object\n",
      " 7   Prescriptions Dispensed by US Retailers in that year (millions)  816 non-null    int64 \n",
      "dtypes: int64(3), object(5)\n",
      "memory usage: 51.1+ KB\n"
     ]
    },
    {
     "data": {
      "text/plain": [
       "((816, 8), None)"
      ]
     },
     "execution_count": 17,
     "metadata": {},
     "output_type": "execute_result"
    }
   ],
   "source": [
    "df.shape, df.info()\n",
    "# nenhuma das colunas do dataset apresentam valores NA ou missing"
   ]
  },
  {
   "cell_type": "code",
   "execution_count": 52,
   "id": "676ad949",
   "metadata": {},
   "outputs": [
    {
     "data": {
      "text/plain": [
       "816"
      ]
     },
     "execution_count": 52,
     "metadata": {},
     "output_type": "execute_result"
    }
   ],
   "source": [
    "df['Deaths'].count().sum()"
   ]
  },
  {
   "cell_type": "code",
   "execution_count": 47,
   "id": "f68f4259",
   "metadata": {},
   "outputs": [
    {
     "data": {
      "image/png": "[encoded data removed]",
      "text/plain": [
       "<Figure size 432x288 with 1 Axes>"
      ]
     },
     "metadata": {
      "needs_background": "light"
     },
     "output_type": "display_data"
    }
   ],
   "source": [
    "sns.histplot(df['Population']);"
   ]
  },
  {
   "cell_type": "code",
   "execution_count": 48,
   "id": "dc286d96",
   "metadata": {},
   "outputs": [
    {
     "data": {
      "image/png": "[encoded data removed]",
      "text/plain": [
       "<Figure size 432x288 with 1 Axes>"
      ]
     },
     "metadata": {
      "needs_background": "light"
     },
     "output_type": "display_data"
    }
   ],
   "source": [
    "sns.histplot(df['Deaths']);"
   ]
  },
  {
   "cell_type": "code",
   "execution_count": 49,
   "id": "6ff4cac8",
   "metadata": {},
   "outputs": [
    {
     "data": {
      "image/png": "[encoded data removed]",
      "text/plain": [
       "<Figure size 432x288 with 1 Axes>"
      ]
     },
     "metadata": {
      "needs_background": "light"
     },
     "output_type": "display_data"
    }
   ],
   "source": [
    "sns.lineplot(data=df, x=df['Year'], y=df['Deaths'], linewidth=1.);"
   ]
  },
  {
   "cell_type": "code",
   "execution_count": 60,
   "id": "1867b51a",
   "metadata": {},
   "outputs": [
    {
     "data": {
      "image/png": "[encoded data removed]",
      "text/plain": [
       "<Figure size 432x288 with 1 Axes>"
      ]
     },
     "metadata": {
      "needs_background": "light"
     },
     "output_type": "display_data"
    }
   ],
   "source": [
    "sns.lineplot(data=df, x=df['Year'], y=df['Prescriptions Dispensed by US Retailers in that year (millions)']);"
   ]
  },
  {
   "cell_type": "code",
   "execution_count": 61,
   "id": "35172167",
   "metadata": {},
   "outputs": [
    {
     "data": {
      "image/png": "[encoded data removed]",
      "text/plain": [
       "<Figure size 432x288 with 1 Axes>"
      ]
     },
     "metadata": {
      "needs_background": "light"
     },
     "output_type": "display_data"
    }
   ],
   "source": [
    "sns.lineplot(data=df, x=df['Year'], y=df['Population']);"
   ]
  }
 ],
 "metadata": {
  "kernelspec": {
   "display_name": "Python 3 (ipykernel)",
   "language": "python",
   "name": "python3"
  },
  "language_info": {
   "codemirror_mode": {
    "name": "ipython",
    "version": 3
   },
   "file_extension": ".py",
   "mimetype": "text/x-python",
   "name": "python",
   "nbconvert_exporter": "python",
   "pygments_lexer": "ipython3",
   "version": "3.9.12"
  }
 },
 "nbformat": 4,
 "nbformat_minor": 5
}
